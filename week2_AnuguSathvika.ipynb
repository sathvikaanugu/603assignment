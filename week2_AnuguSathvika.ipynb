{
 "cells": [
  {
   "cell_type": "markdown",
   "id": "70fd9798",
   "metadata": {},
   "source": [
    "1) Write Python code and use MapReduct to count occurrences of each word in the first text file (file.txt). How many times each word is repeated?"
   ]
  },
  {
   "cell_type": "code",
   "execution_count": 13,
   "id": "c4ae2cf0",
   "metadata": {},
   "outputs": [],
   "source": [
    "import sys\n",
    "from collections import Counter\n",
    "\n",
    "\n",
    "def mapper(line):\n",
    "    \n",
    "    words = line.strip().split()\n",
    "    for word in words:\n",
    "        yield (word.lower(), 1)\n"
   ]
  },
  {
   "cell_type": "code",
   "execution_count": 15,
   "id": "4b24301c",
   "metadata": {},
   "outputs": [],
   "source": [
    "def reducer(word, counts):\n",
    "    \n",
    "    count = sum(counts)\n",
    "    yield (word, count)"
   ]
  },
  {
   "cell_type": "code",
   "execution_count": null,
   "id": "d9631908",
   "metadata": {},
   "outputs": [],
   "source": [
    "with open('file1.txt', 'r') as f:\n",
    "  \n",
    "    word_counts = Counter()\n",
    "    \n",
    "    for line in f:\n",
    "        \n",
    "        mapped = map(mapper, [line])\n",
    "       \n",
    "        grouped = {}\n",
    "        for key, value in mapped:\n",
    "            grouped.setdefault(key, []).append(value)\n",
    "        \n",
    "        reduced = [reducer(key, value) for key, value in grouped.items()]\n",
    "        \n",
    "        for word, count in reduced:\n",
    "            word_counts[word] += count"
   ]
  },
  {
   "cell_type": "code",
   "execution_count": null,
   "id": "155450bb",
   "metadata": {},
   "outputs": [],
   "source": [
    "# Printring word counts\n",
    "for word, count in word_counts.items():\n",
    "    print(word, count)\n"
   ]
  },
  {
   "cell_type": "markdown",
   "id": "1ebdcc04",
   "metadata": {},
   "source": [
    "2) From the second text file (file2.txt), write Python code and use MapReduct to count how many times non-English words (names, places, spells etc.) were used. List those words and how many times each was repeated.\n",
    "There are multiple ways of doing this.  You can use pyenchant (https://pypi.org/project/pyenchant/), pyspellchecker (https://pyspellchecker.readthedocs.io/en/latest/) or just download a list of words (http://www.gwicks.net/dictionaries.htm) and search through them."
   ]
  },
  {
   "cell_type": "code",
   "execution_count": null,
   "id": "463e34f2",
   "metadata": {},
   "outputs": [],
   "source": [
    "#using pyspellchecker\n",
    "\n",
    "import pyspark\n",
    "from pyspark import SparkContext\n",
    "\n",
    "from spellchecker import SpellChecker\n",
    "\n",
    "\n",
    "sc = SparkContext(\"local\", \"Non-English Words Counter\")\n",
    "\n",
    "\n",
    "lines = sc.textFile(\"file2.txt\")\n",
    "\n"
   ]
  },
  {
   "cell_type": "code",
   "execution_count": null,
   "id": "b0b7f54d",
   "metadata": {},
   "outputs": [],
   "source": [
    "def extract_non_english_words(line):\n",
    "    \n",
    "    spell = SpellChecker(language='en')\n",
    "    \n",
    "   \n",
    "    words = line.split()\n",
    "    \n",
    "    non_english_words = filter(lambda word: not spell.check(word), words)\n",
    "   \n",
    "    return [(word.lower(), 1) for word in non_english_words]\n"
   ]
  },
  {
   "cell_type": "code",
   "execution_count": null,
   "id": "564349c3",
   "metadata": {},
   "outputs": [],
   "source": [
    "\n",
    "#reduce function\n",
    "def count_words(a, b):\n",
    "    return a + b"
   ]
  },
  {
   "cell_type": "code",
   "execution_count": null,
   "id": "71c4d5d6",
   "metadata": {},
   "outputs": [],
   "source": [
    "non_english_words_counts = lines.flatMap(extract_non_english_words) \\\n",
    "                                .reduceByKey(count_words) \\\n",
    "                                .collect()"
   ]
  },
  {
   "cell_type": "code",
   "execution_count": null,
   "id": "ac04864e",
   "metadata": {},
   "outputs": [],
   "source": [
    "# printint the results\n",
    "for word, count in non_english_words_counts:\n",
    "    print(f\"{word}: {count}\""
   ]
  }
 ],
 "metadata": {
  "kernelspec": {
   "display_name": "Python 3 (ipykernel)",
   "language": "python",
   "name": "python3"
  },
  "language_info": {
   "codemirror_mode": {
    "name": "ipython",
    "version": 3
   },
   "file_extension": ".py",
   "mimetype": "text/x-python",
   "name": "python",
   "nbconvert_exporter": "python",
   "pygments_lexer": "ipython3",
   "version": "3.9.13"
  }
 },
 "nbformat": 4,
 "nbformat_minor": 5
}
